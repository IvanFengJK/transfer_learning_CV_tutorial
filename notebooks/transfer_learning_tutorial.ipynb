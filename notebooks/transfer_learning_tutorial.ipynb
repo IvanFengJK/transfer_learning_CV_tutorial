{
  "cells": [
    {
      "cell_type": "code",
      "execution_count": 1,
      "metadata": {
        "id": "EC5mWVBW41Ts"
      },
      "outputs": [],
      "source": [
        "%matplotlib inline"
      ]
    },
    {
      "cell_type": "markdown",
      "metadata": {
        "id": "XNS7leCT41Tu"
      },
      "source": [
        "\n",
        "# Transfer Learning for Computer Vision Tutorial\n",
        "**Author**: [Sasank Chilamkurthy](https://chsasank.github.io)\n",
        "\n",
        "In this tutorial, you will learn how to train a convolutional neural network for\n",
        "image classification using transfer learning. You can read more about the transfer\n",
        "learning at [cs231n notes](https://cs231n.github.io/transfer-learning/)_\n",
        "\n",
        "Quoting these notes,\n",
        "\n",
        "    In practice, very few people train an entire Convolutional Network\n",
        "    from scratch (with random initialization), because it is relatively\n",
        "    rare to have a dataset of sufficient size. Instead, it is common to\n",
        "    pretrain a ConvNet on a very large dataset (e.g. ImageNet, which\n",
        "    contains 1.2 million images with 1000 categories), and then use the\n",
        "    ConvNet either as an initialization or a fixed feature extractor for\n",
        "    the task of interest.\n",
        "\n",
        "These two major transfer learning scenarios look as follows:\n",
        "\n",
        "-  **Finetuning the convnet**: Instead of random initialization, we\n",
        "   initialize the network with a pretrained network, like the one that is\n",
        "   trained on imagenet 1000 dataset. Rest of the training looks as\n",
        "   usual.\n",
        "-  **ConvNet as fixed feature extractor**: Here, we will freeze the weights\n",
        "   for all of the network except that of the final fully connected\n",
        "   layer. This last fully connected layer is replaced with a new one\n",
        "   with random weights and only this layer is trained.\n"
      ]
    },
    {
      "cell_type": "code",
      "execution_count": 2,
      "metadata": {
        "id": "z34H5Hwp41Tw"
      },
      "outputs": [
        {
          "data": {
            "text/plain": "<matplotlib.pyplot._IonContext at 0x7fbf0431eca0>"
          },
          "execution_count": 2,
          "metadata": {},
          "output_type": "execute_result"
        }
      ],
      "source": [
        "# License: BSD\n",
        "# Author: Sasank Chilamkurthy\n",
        "\n",
        "from __future__ import print_function, division\n",
        "\n",
        "import torch\n",
        "import torch.nn as nn\n",
        "import torch.optim as optim\n",
        "from torch.optim import lr_scheduler\n",
        "import torch.backends.cudnn as cudnn # CUDA Deep Neural Network\n",
        "import numpy as np\n",
        "import torchvision\n",
        "from torchvision import datasets, models, transforms\n",
        "import matplotlib.pyplot as plt\n",
        "import time\n",
        "import os\n",
        "import copy\n",
        "\n",
        "cudnn.benchmark = True\n",
        "plt.ion()   # interactive mode"
      ]
    },
    {
      "cell_type": "markdown",
      "metadata": {
        "id": "nhNLISO241Tw"
      },
      "source": [
        "## Load Data\n",
        "\n",
        "We will use torchvision and torch.utils.data packages for loading the\n",
        "data.\n",
        "\n",
        "The problem we're going to solve today is to train a model to classify\n",
        "**ants** and **bees**. We have about 120 training images each for ants and bees.\n",
        "There are 75 validation images for each class. Usually, this is a very\n",
        "small dataset to generalize upon, if trained from scratch. Since we\n",
        "are using transfer learning, we should be able to generalize reasonably\n",
        "well.\n",
        "\n",
        "This dataset is a very small subset of imagenet.\n",
        "\n",
        ".. Note ::\n",
        "   Download the data from\n",
        "   [here](https://download.pytorch.org/tutorial/hymenoptera_data.zip)\n",
        "   and extract it to the current directory.\n",
        "\n"
      ]
    },
    {
      "cell_type": "code",
      "execution_count": 3,
      "metadata": {
        "colab": {
          "base_uri": "https://localhost:8080/"
        },
        "id": "qJY2KpdU41Tw",
        "outputId": "03d2b67f-c89a-4904-f9eb-6c43d9fec405"
      },
      "outputs": [],
      "source": [
        "# Data augmentation and normalization for training\n",
        "# Just normalization for validation\n",
        "data_transforms = {\n",
        "    'train': transforms.Compose([\n",
        "        transforms.RandomResizedCrop(224),\n",
        "        transforms.RandomHorizontalFlip(),\n",
        "        transforms.ToTensor(),\n",
        "        transforms.Normalize([0.485, 0.456, 0.406], [0.229, 0.224, 0.225])\n",
        "    ]),\n",
        "    'val': transforms.Compose([\n",
        "        transforms.Resize(256),\n",
        "        transforms.CenterCrop(224),\n",
        "        transforms.ToTensor(),\n",
        "        transforms.Normalize([0.485, 0.456, 0.406], [0.229, 0.224, 0.225])\n",
        "    ]),\n",
        "}\n",
        "\n",
        "data_dir = \"../data\"\n",
        "image_datasets = {x: datasets.ImageFolder(os.path.join(data_dir, x),\n",
        "                                          data_transforms[x])\n",
        "                  for x in ['train', 'val']}\n",
        "dataloaders = {x: torch.utils.data.DataLoader(image_datasets[x], batch_size=4,\n",
        "                                             shuffle=True, num_workers=4)\n",
        "              for x in ['train', 'val']}\n",
        "dataset_sizes = {x: len(image_datasets[x]) for x in ['train', 'val']}\n",
        "class_names = image_datasets['train'].classes\n",
        "\n",
        "device = torch.device(\"cuda:0\" if torch.cuda.is_available() else \"cpu\")"
      ]
    },
    {
      "cell_type": "markdown",
      "metadata": {
        "id": "FnZO_-yN41Tx"
      },
      "source": [
        "### Visualize a few images\n",
        "Let's visualize a few training images so as to understand the data\n",
        "augmentations.\n",
        "\n"
      ]
    },
    {
      "cell_type": "code",
      "execution_count": 4,
      "metadata": {
        "colab": {
          "base_uri": "https://localhost:8080/",
          "height": 148
        },
        "id": "w4dLQ_nk41Tx",
        "outputId": "c01a1a8f-cb73-4beb-b63d-4040877fd327"
      },
      "outputs": [
        {
          "data": {
            "image/png": "[encoded data removed]",
            "text/plain": "<Figure size 432x288 with 1 Axes>"
          },
          "metadata": {
            "needs_background": "light"
          },
          "output_type": "display_data"
        }
      ],
      "source": [
        "def imshow(inp, title=None):\n",
        "    \"\"\"Imshow for Tensor.\"\"\"\n",
        "    inp = inp.numpy().transpose((1, 2, 0))\n",
        "    mean = np.array([0.485, 0.456, 0.406])\n",
        "    std = np.array([0.229, 0.224, 0.225])\n",
        "    inp = std * inp + mean\n",
        "    inp = np.clip(inp, 0, 1)\n",
        "    plt.imshow(inp)\n",
        "    if title is not None:\n",
        "        plt.title(title)\n",
        "    plt.pause(0.001)  # pause a bit so that plots are updated\n",
        "\n",
        "\n",
        "# Get a batch of training data\n",
        "inputs, classes = next(iter(dataloaders['train']))\n",
        "\n",
        "# Make a grid from batch\n",
        "out = torchvision.utils.make_grid(inputs)\n",
        "\n",
        "imshow(out, title=[class_names[x] for x in classes])"
      ]
    },
    {
      "cell_type": "markdown",
      "metadata": {
        "id": "H-qgY3FE41Ty"
      },
      "source": [
        "## Training the model\n",
        "\n",
        "Now, let's write a general function to train a model. Here, we will\n",
        "illustrate:\n",
        "\n",
        "-  Scheduling the learning rate\n",
        "-  Saving the best model\n",
        "\n",
        "In the following, parameter ``scheduler`` is an LR scheduler object from\n",
        "``torch.optim.lr_scheduler``.\n",
        "\n"
      ]
    },
    {
      "cell_type": "code",
      "execution_count": 22,
      "metadata": {
        "id": "kULJAFZH41Ty"
      },
      "outputs": [],
      "source": [
        "from tqdm import tqdm\n",
        "\n",
        "def train_model(model, criterion, optimizer, scheduler, num_epochs=25):\n",
        "    since = time.time()\n",
        "\n",
        "    best_model_wts = copy.deepcopy(model.state_dict())\n",
        "    best_acc = 0.0\n",
        "    acc_hist = []\n",
        "\n",
        "    for epoch in (range(num_epochs)):\n",
        "        print(f'Epoch {epoch}/{num_epochs - 1}')\n",
        "        print('-' * 10)\n",
        "\n",
        "        # Each epoch has a training and validation phase\n",
        "        for phase in ['train', 'val']:\n",
        "            if phase == 'train':\n",
        "                model.train()  # Set model to training mode\n",
        "            else:\n",
        "                model.eval()   # Set model to evaluate mode\n",
        "\n",
        "            running_loss = 0.0\n",
        "            running_corrects = 0\n",
        "\n",
        "            # Iterate over data.\n",
        "            for inputs, labels in dataloaders[phase]:\n",
        "                inputs = inputs.to(device)\n",
        "                labels = labels.to(device)\n",
        "\n",
        "                # zero the parameter gradients\n",
        "                optimizer.zero_grad()\n",
        "\n",
        "                # forward\n",
        "                # track history if only in train\n",
        "                with torch.set_grad_enabled(phase == 'train'):\n",
        "                    outputs = model(inputs)\n",
        "                    _, preds = torch.max(outputs, 1)\n",
        "                    loss = criterion(outputs, labels)\n",
        "\n",
        "                    # backward + optimize only if in training phase\n",
        "                    if phase == 'train':\n",
        "                        loss.backward()\n",
        "                        optimizer.step()\n",
        "\n",
        "                # statistics\n",
        "                running_loss += loss.item() * inputs.size(0)\n",
        "                running_corrects += torch.sum(preds == labels.data)\n",
        "            if phase == 'train':\n",
        "                scheduler.step()\n",
        "\n",
        "            epoch_loss = running_loss / dataset_sizes[phase]\n",
        "            epoch_acc = running_corrects.double() / dataset_sizes[phase]\n",
        "            acc_hist.append(round(epoch_acc.item(), 4))\n",
        "\n",
        "            print(f'{phase} Loss: {epoch_loss:.4f} Acc: {epoch_acc:.4f}')\n",
        "\n",
        "            # deep copy the model\n",
        "            if phase == 'val' and epoch_acc > best_acc:\n",
        "                best_acc = epoch_acc\n",
        "                best_model_wts = copy.deepcopy(model.state_dict())\n",
        "\n",
        "        print()\n",
        "\n",
        "    time_elapsed = time.time() - since\n",
        "    print(f'Training complete in {time_elapsed // 60:.0f}m {time_elapsed % 60:.0f}s')\n",
        "    print(f'Best val Acc: {best_acc:4f}')\n",
        "\n",
        "    # load best model weights\n",
        "    model.load_state_dict(best_model_wts)\n",
        "    return model, acc_hist"
      ]
    },
    {
      "cell_type": "markdown",
      "metadata": {
        "id": "aA0My-wK41Tz"
      },
      "source": [
        "### Visualizing the model predictions\n",
        "\n",
        "Generic function to display predictions for a few images\n",
        "\n",
        "\n"
      ]
    },
    {
      "cell_type": "code",
      "execution_count": 23,
      "metadata": {
        "id": "LdZnFc3i41Tz"
      },
      "outputs": [],
      "source": [
        "def visualize_model(model, num_images=6):\n",
        "    was_training = model.training\n",
        "    model.eval()\n",
        "    images_so_far = 0\n",
        "    fig = plt.figure()\n",
        "\n",
        "    with torch.no_grad():\n",
        "        for i, (inputs, labels) in enumerate(dataloaders['val']):\n",
        "            inputs = inputs.to(device)\n",
        "            labels = labels.to(device)\n",
        "\n",
        "            outputs = model(inputs)\n",
        "            _, preds = torch.max(outputs, 1)\n",
        "\n",
        "            for j in range(inputs.size()[0]):\n",
        "                images_so_far += 1\n",
        "                ax = plt.subplot(num_images//2, 2, images_so_far)\n",
        "                ax.axis('off')\n",
        "                ax.set_title(f'predicted: {class_names[preds[j]]}')\n",
        "                imshow(inputs.cpu().data[j])\n",
        "\n",
        "                if images_so_far == num_images:\n",
        "                    model.train(mode=was_training)\n",
        "                    return\n",
        "        model.train(mode=was_training)"
      ]
    },
    {
      "cell_type": "markdown",
      "metadata": {
        "id": "vSoFUsdj41T0"
      },
      "source": [
        "## Finetuning the convnet\n",
        "\n",
        "Load a pretrained model and reset final fully connected layer.\n",
        "\n",
        "\n"
      ]
    },
    {
      "cell_type": "code",
      "execution_count": 24,
      "metadata": {
        "colab": {
          "base_uri": "https://localhost:8080/",
          "height": 156,
          "referenced_widgets": [
            "a8c3c654d4244eb49e03723073e0383c",
            "d381c99902ad4c18bedb457b5b145fbe",
            "ca19daa94d684c7daf6db452bd85615a",
            "7538aa60cbd042de94f239567ad9d3f2",
            "fb4cc47406d3438f91bf71011d6c2957",
            "ce608304a72e4002ad603d1f3f9c1ccc",
            "e555521d628942e9801220dd8bc5dd97",
            "094a34e82d354003b978ed9d6487f4ad",
            "f5d902c6ce0447ea9e170da3b78e2f16",
            "07fc018ac8d141f986572169031dae42",
            "b990644c9e6b41709b88d5150dd4442f"
          ]
        },
        "id": "WzPUmIu241T0",
        "outputId": "9af82563-c6ad-4020-ef77-5f10f805fd12"
      },
      "outputs": [],
      "source": [
        "model_ft = models.resnet18(pretrained=True)\n",
        "num_ftrs = model_ft.fc.in_features\n",
        "# Here the size of each output sample is set to 2.\n",
        "# Alternatively, it can be generalized to nn.Linear(num_ftrs, len(class_names)).\n",
        "model_ft.fc = nn.Linear(num_ftrs, 2)\n",
        "\n",
        "model_ft = model_ft.to(device)\n",
        "\n",
        "criterion = nn.CrossEntropyLoss()\n",
        "\n",
        "# Observe that all parameters are being optimized\n",
        "optimizer_ft = optim.SGD(model_ft.parameters(), lr=0.001, momentum=0.9)\n",
        "\n",
        "# Decay LR by a factor of 0.1 every 7 epochs\n",
        "exp_lr_scheduler = lr_scheduler.StepLR(optimizer_ft, step_size=7, gamma=0.1)"
      ]
    },
    {
      "cell_type": "markdown",
      "metadata": {
        "id": "oFarLKX441T0"
      },
      "source": [
        "### Train and evaluate\n",
        "\n",
        "It should take around 15-25 min on CPU. On GPU though, it takes less than a\n",
        "minute.\n",
        "\n",
        "\n"
      ]
    },
    {
      "cell_type": "code",
      "execution_count": 25,
      "metadata": {
        "colab": {
          "base_uri": "https://localhost:8080/"
        },
        "id": "SiRHAgCT41T0",
        "outputId": "b79131b4-80d5-418e-a194-fa94d556c0fb"
      },
      "outputs": [
        {
          "name": "stdout",
          "output_type": "stream",
          "text": [
            "Epoch 0/24\n",
            "----------\n",
            "train Loss: 0.5301 Acc: 0.7336\n",
            "val Loss: 0.3153 Acc: 0.8562\n",
            "\n",
            "Epoch 1/24\n",
            "----------\n",
            "train Loss: 0.6858 Acc: 0.7500\n",
            "val Loss: 0.3043 Acc: 0.9020\n",
            "\n",
            "Epoch 2/24\n",
            "----------\n",
            "train Loss: 0.6449 Acc: 0.7500\n",
            "val Loss: 0.3122 Acc: 0.8824\n",
            "\n",
            "Epoch 3/24\n",
            "----------\n",
            "train Loss: 0.5432 Acc: 0.7623\n",
            "val Loss: 0.2328 Acc: 0.9281\n",
            "\n",
            "Epoch 4/24\n",
            "----------\n",
            "train Loss: 0.4130 Acc: 0.8361\n",
            "val Loss: 0.3073 Acc: 0.8889\n",
            "\n",
            "Epoch 5/24\n",
            "----------\n",
            "train Loss: 0.6131 Acc: 0.7582\n",
            "val Loss: 0.3996 Acc: 0.8824\n",
            "\n",
            "Epoch 6/24\n",
            "----------\n",
            "train Loss: 0.5078 Acc: 0.7951\n",
            "val Loss: 0.2821 Acc: 0.8954\n",
            "\n",
            "Epoch 7/24\n",
            "----------\n",
            "train Loss: 0.3696 Acc: 0.8648\n",
            "val Loss: 0.2331 Acc: 0.9085\n",
            "\n",
            "Epoch 8/24\n",
            "----------\n",
            "train Loss: 0.3083 Acc: 0.8852\n",
            "val Loss: 0.2480 Acc: 0.9020\n",
            "\n",
            "Epoch 9/24\n",
            "----------\n",
            "train Loss: 0.2773 Acc: 0.8852\n",
            "val Loss: 0.2142 Acc: 0.9085\n",
            "\n",
            "Epoch 10/24\n",
            "----------\n",
            "train Loss: 0.2945 Acc: 0.8730\n",
            "val Loss: 0.2395 Acc: 0.9150\n",
            "\n",
            "Epoch 11/24\n",
            "----------\n",
            "train Loss: 0.2326 Acc: 0.8893\n",
            "val Loss: 0.2037 Acc: 0.9216\n",
            "\n",
            "Epoch 12/24\n",
            "----------\n",
            "train Loss: 0.2815 Acc: 0.8852\n",
            "val Loss: 0.2439 Acc: 0.9216\n",
            "\n",
            "Epoch 13/24\n",
            "----------\n",
            "train Loss: 0.3207 Acc: 0.8852\n",
            "val Loss: 0.2163 Acc: 0.9150\n",
            "\n",
            "Epoch 14/24\n",
            "----------\n",
            "train Loss: 0.2564 Acc: 0.9098\n",
            "val Loss: 0.2292 Acc: 0.9216\n",
            "\n",
            "Epoch 15/24\n",
            "----------\n",
            "train Loss: 0.3016 Acc: 0.8648\n",
            "val Loss: 0.2355 Acc: 0.9150\n",
            "\n",
            "Epoch 16/24\n",
            "----------\n",
            "train Loss: 0.1456 Acc: 0.9508\n",
            "val Loss: 0.2126 Acc: 0.9216\n",
            "\n",
            "Epoch 17/24\n",
            "----------\n",
            "train Loss: 0.3292 Acc: 0.8648\n",
            "val Loss: 0.2256 Acc: 0.9281\n",
            "\n",
            "Epoch 18/24\n",
            "----------\n",
            "train Loss: 0.2996 Acc: 0.8525\n",
            "val Loss: 0.2568 Acc: 0.9150\n",
            "\n",
            "Epoch 19/24\n",
            "----------\n",
            "train Loss: 0.2574 Acc: 0.9016\n",
            "val Loss: 0.2214 Acc: 0.9150\n",
            "\n",
            "Epoch 20/24\n",
            "----------\n",
            "train Loss: 0.2836 Acc: 0.8770\n",
            "val Loss: 0.2136 Acc: 0.9281\n",
            "\n",
            "Epoch 21/24\n",
            "----------\n",
            "train Loss: 0.2539 Acc: 0.9098\n",
            "val Loss: 0.2131 Acc: 0.9216\n",
            "\n",
            "Epoch 22/24\n",
            "----------\n",
            "train Loss: 0.1912 Acc: 0.9221\n",
            "val Loss: 0.2262 Acc: 0.9216\n",
            "\n",
            "Epoch 23/24\n",
            "----------\n",
            "train Loss: 0.2083 Acc: 0.9139\n",
            "val Loss: 0.2370 Acc: 0.9216\n",
            "\n",
            "Epoch 24/24\n",
            "----------\n",
            "train Loss: 0.2747 Acc: 0.8934\n",
            "val Loss: 0.2306 Acc: 0.9281\n",
            "\n",
            "Training complete in 0m 40s\n",
            "Best val Acc: 0.928105\n"
          ]
        }
      ],
      "source": [
        "model_ft, acc_hist = train_model(model_ft, criterion, optimizer_ft, exp_lr_scheduler,\n",
        "                       num_epochs=25)"
      ]
    },
    {
      "cell_type": "code",
      "execution_count": 51,
      "metadata": {},
      "outputs": [
        {
          "data": {
            "text/plain": "<torch.utils.data.dataloader.DataLoader at 0x7fbe54069e20>"
          },
          "execution_count": 51,
          "metadata": {},
          "output_type": "execute_result"
        }
      ],
      "source": []
    },
    {
      "cell_type": "code",
      "execution_count": 59,
      "metadata": {},
      "outputs": [
        {
          "name": "stdout",
          "output_type": "stream",
          "text": [
            "[0, 1, 0, 0, 0, 1, 1, 0, 0, 1, 0, 1, 0, 1, 1, 0, 1, 1, 1, 1, 1, 0, 1, 0, 0, 0, 1, 0, 0, 1, 0, 1, 1, 0, 0, 1, 0, 0, 1, 1, 1, 1, 1, 1, 1, 0, 0, 0, 0, 1, 0, 1, 0, 0, 1, 0, 0, 1, 0, 1, 1, 1, 0, 0, 0, 0, 1, 0, 1, 0, 0, 1, 1, 1, 0, 1, 1, 1, 0, 1, 1, 0, 1, 0, 0, 0, 1, 1, 0, 1, 1, 1, 0, 1, 1, 1, 1, 1, 1, 1, 1, 1, 1, 0, 1, 1, 0, 0, 1, 1, 0, 0, 1, 1, 1, 0, 0, 1, 0, 1, 0, 1, 0, 1, 1, 1, 1, 0, 0, 0, 1, 0, 0, 0, 1, 1, 0, 1, 0, 0, 1, 0, 0, 0, 1, 0, 0, 0, 1, 1, 1, 0, 1]\n",
            "[0, 1, 0, 0, 0, 1, 1, 0, 0, 0, 0, 1, 0, 1, 1, 0, 1, 1, 1, 0, 1, 0, 1, 0, 0, 1, 1, 0, 0, 1, 0, 1, 1, 0, 0, 1, 0, 0, 1, 1, 1, 1, 1, 1, 1, 0, 0, 0, 0, 1, 0, 1, 0, 0, 1, 0, 0, 1, 0, 1, 1, 1, 0, 0, 0, 0, 1, 0, 0, 1, 0, 1, 1, 1, 0, 1, 1, 1, 0, 1, 1, 0, 0, 1, 0, 0, 1, 1, 0, 1, 1, 1, 0, 1, 0, 1, 1, 1, 1, 1, 1, 1, 1, 0, 1, 1, 0, 0, 1, 1, 0, 0, 1, 1, 1, 0, 0, 1, 0, 1, 0, 1, 0, 1, 1, 1, 1, 0, 0, 0, 1, 0, 0, 0, 1, 1, 0, 1, 1, 0, 1, 0, 0, 0, 1, 0, 1, 0, 1, 1, 1, 1, 1]\n"
          ]
        },
        {
          "data": {
            "text/plain": "<AxesSubplot:>"
          },
          "execution_count": 59,
          "metadata": {},
          "output_type": "execute_result"
        },
        {
          "data": {
            "image/png": "[encoded data removed]",
            "text/plain": "<Figure size 432x288 with 2 Axes>"
          },
          "metadata": {
            "needs_background": "light"
          },
          "output_type": "display_data"
        }
      ],
      "source": [
        "import seaborn as sns\n",
        "import pandas as pd\n",
        "from sklearn.metrics import confusion_matrix, classification_report\n",
        "\n",
        "y_pred_list = []\n",
        "y_test = []\n",
        "with torch.no_grad():\n",
        "    model_ft.eval()\n",
        "    for i, (X_batch, _) in enumerate(dataloaders['val']):\n",
        "        y_test.extend(_.tolist())\n",
        "        X_batch = X_batch.to(device)\n",
        "        y_test_pred = model_ft(X_batch)\n",
        "        _, y_pred_tags = torch.max(y_test_pred, dim = 1)\n",
        "        y_pred_list.extend(y_pred_tags.cpu().numpy())\n",
        "y_pred_list = [a.squeeze().tolist() for a in y_pred_list]\n",
        "print(y_pred_list)\n",
        "print(y_test)\n",
        "class2idx = {\n",
        "    \"ants\":0,\n",
        "    \"bees\":1,\n",
        "}\n",
        "idx2class = {v: k for k, v in class2idx.items()}\n",
        "confusion_matrix_df = pd.DataFrame(confusion_matrix(y_test, y_pred_list)).rename(columns=idx2class, index=idx2class)\n",
        "sns.heatmap(confusion_matrix_df, annot=True)"
      ]
    },
    {
      "cell_type": "code",
      "execution_count": 60,
      "metadata": {},
      "outputs": [
        {
          "name": "stdout",
          "output_type": "stream",
          "text": [
            "              precision    recall  f1-score   support\n",
            "\n",
            "           0       0.92      0.93      0.92        70\n",
            "           1       0.94      0.93      0.93        83\n",
            "\n",
            "    accuracy                           0.93       153\n",
            "   macro avg       0.93      0.93      0.93       153\n",
            "weighted avg       0.93      0.93      0.93       153\n",
            "\n"
          ]
        }
      ],
      "source": [
        "print(classification_report(y_test, y_pred_list))"
      ]
    },
    {
      "cell_type": "code",
      "execution_count": 48,
      "metadata": {},
      "outputs": [
        {
          "data": {
            "text/plain": "[[0, 0, 0, 1],\n [0, 1, 0, 1],\n [1, 1, 0, 1],\n [0, 0, 1, 0],\n [1, 0, 1, 1],\n [1, 0, 0, 1],\n [1, 0, 0, 0],\n [0, 1, 1, 1],\n [1, 1, 1, 0],\n [1, 0, 0, 0],\n [0, 0, 1, 1],\n [0, 1, 0, 0],\n [1, 1, 0, 1],\n [0, 1, 1, 0],\n [1, 0, 0, 0],\n [0, 0, 1, 1],\n [1, 1, 1, 0],\n [1, 0, 1, 1],\n [0, 0, 1, 0],\n [1, 0, 1, 1],\n [0, 0, 0, 0],\n [1, 1, 1, 1],\n [0, 1, 1, 0],\n [0, 0, 1, 1],\n [1, 0, 0, 0],\n [1, 1, 1, 1],\n [1, 1, 1, 1],\n [1, 0, 1, 1],\n [1, 1, 0, 0],\n [0, 0, 0, 1],\n [0, 1, 0, 0],\n [1, 0, 0, 1],\n [1, 1, 1, 0],\n [0, 1, 0, 0],\n [1, 1, 1, 1],\n [1, 0, 0, 0],\n [0, 1, 1, 1],\n [1, 1, 1, 0],\n 0]"
          },
          "execution_count": 48,
          "metadata": {},
          "output_type": "execute_result"
        }
      ],
      "source": [
        "y_pred_list"
      ]
    },
    {
      "cell_type": "code",
      "execution_count": 45,
      "metadata": {},
      "outputs": [
        {
          "name": "stdout",
          "output_type": "stream",
          "text": [
            "tensor(142, device='cuda:0')\n"
          ]
        }
      ],
      "source": [
        "with torch.no_grad():\n",
        "    running_corrects = 0\n",
        "    for i, (inputs, labels) in enumerate(dataloaders['val']):\n",
        "        inputs = inputs.to(device)\n",
        "        labels = labels.to(device)\n",
        "        outputs = model_ft(inputs)\n",
        "        _, preds = torch.max(outputs, 1)\n",
        "        running_corrects += torch.sum(preds == labels.data)\n",
        "    print(running_corrects)"
      ]
    },
    {
      "cell_type": "code",
      "execution_count": null,
      "metadata": {},
      "outputs": [],
      "source": []
    },
    {
      "cell_type": "markdown",
      "metadata": {
        "id": "vcewdbqq41T1"
      },
      "source": [
        "## ConvNet as fixed feature extractor\n",
        "\n",
        "Here, we need to freeze all the network except the final layer. We need\n",
        "to set ``requires_grad = False`` to freeze the parameters so that the\n",
        "gradients are not computed in ``backward()``.\n",
        "\n",
        "You can read more about this in the documentation\n",
        "[here](https://pytorch.org/docs/notes/autograd.html#excluding-subgraphs-from-backward)_.\n",
        "\n",
        "\n"
      ]
    },
    {
      "cell_type": "code",
      "execution_count": 11,
      "metadata": {
        "id": "QnC-6B9N41T1"
      },
      "outputs": [],
      "source": [
        "model_conv = torchvision.models.resnet18(pretrained=True)\n",
        "for param in model_conv.parameters():\n",
        "    param.requires_grad = False\n",
        "\n",
        "# Parameters of newly constructed modules have requires_grad=True by default\n",
        "num_ftrs = model_conv.fc.in_features\n",
        "model_conv.fc = nn.Linear(num_ftrs, 2)\n",
        "\n",
        "model_conv = model_conv.to(device)\n",
        "\n",
        "criterion = nn.CrossEntropyLoss()\n",
        "\n",
        "# Observe that only parameters of final layer are being optimized as\n",
        "# opposed to before.\n",
        "optimizer_conv = optim.SGD(model_conv.fc.parameters(), lr=0.001, momentum=0.9)\n",
        "\n",
        "# Decay LR by a factor of 0.1 every 7 epochs\n",
        "exp_lr_scheduler = lr_scheduler.StepLR(optimizer_conv, step_size=7, gamma=0.1)"
      ]
    },
    {
      "cell_type": "markdown",
      "metadata": {
        "id": "zYjIdlFb41T1"
      },
      "source": [
        "### Train and evaluate\n",
        "\n",
        "On CPU this will take about half the time compared to previous scenario.\n",
        "This is expected as gradients don't need to be computed for most of the\n",
        "network. However, forward does need to be computed.\n",
        "\n",
        "\n"
      ]
    },
    {
      "cell_type": "code",
      "execution_count": 12,
      "metadata": {
        "colab": {
          "base_uri": "https://localhost:8080/"
        },
        "id": "Q3xz7jAY41T1",
        "outputId": "f6dddf17-5384-4735-de86-b3f6fb8bb71b"
      },
      "outputs": [
        {
          "name": "stdout",
          "output_type": "stream",
          "text": [
            "Epoch 0/24\n",
            "----------\n",
            "train Loss: 0.6760 Acc: 0.6639\n",
            "val Loss: 0.2063 Acc: 0.9281\n",
            "\n",
            "Epoch 1/24\n",
            "----------\n",
            "train Loss: 0.3951 Acc: 0.8156\n",
            "val Loss: 0.2625 Acc: 0.8889\n",
            "\n",
            "Epoch 2/24\n",
            "----------\n",
            "train Loss: 0.4391 Acc: 0.8033\n",
            "val Loss: 0.3299 Acc: 0.8758\n",
            "\n",
            "Epoch 3/24\n",
            "----------\n",
            "train Loss: 0.4284 Acc: 0.8443\n",
            "val Loss: 0.1813 Acc: 0.9281\n",
            "\n",
            "Epoch 4/24\n",
            "----------\n",
            "train Loss: 0.4115 Acc: 0.8033\n",
            "val Loss: 0.1762 Acc: 0.9477\n",
            "\n",
            "Epoch 5/24\n",
            "----------\n",
            "train Loss: 0.3577 Acc: 0.8320\n",
            "val Loss: 0.3150 Acc: 0.8889\n",
            "\n",
            "Epoch 6/24\n",
            "----------\n",
            "train Loss: 0.3287 Acc: 0.8525\n",
            "val Loss: 0.1722 Acc: 0.9477\n",
            "\n",
            "Epoch 7/24\n",
            "----------\n",
            "train Loss: 0.3293 Acc: 0.8770\n",
            "val Loss: 0.1842 Acc: 0.9346\n",
            "\n",
            "Epoch 8/24\n",
            "----------\n",
            "train Loss: 0.4852 Acc: 0.8074\n",
            "val Loss: 0.1912 Acc: 0.9346\n",
            "\n",
            "Epoch 9/24\n",
            "----------\n",
            "train Loss: 0.3594 Acc: 0.8689\n",
            "val Loss: 0.1885 Acc: 0.9346\n",
            "\n",
            "Epoch 10/24\n",
            "----------\n",
            "train Loss: 0.3485 Acc: 0.8484\n",
            "val Loss: 0.1939 Acc: 0.9346\n",
            "\n",
            "Epoch 11/24\n",
            "----------\n",
            "train Loss: 0.3289 Acc: 0.8484\n",
            "val Loss: 0.2104 Acc: 0.9346\n",
            "\n",
            "Epoch 12/24\n",
            "----------\n",
            "train Loss: 0.3574 Acc: 0.8566\n",
            "val Loss: 0.2174 Acc: 0.9412\n",
            "\n",
            "Epoch 13/24\n",
            "----------\n",
            "train Loss: 0.3222 Acc: 0.8689\n",
            "val Loss: 0.1598 Acc: 0.9346\n",
            "\n",
            "Epoch 14/24\n",
            "----------\n",
            "train Loss: 0.3629 Acc: 0.8607\n",
            "val Loss: 0.1873 Acc: 0.9346\n",
            "\n",
            "Epoch 15/24\n",
            "----------\n",
            "train Loss: 0.2631 Acc: 0.8934\n",
            "val Loss: 0.1669 Acc: 0.9346\n",
            "\n",
            "Epoch 16/24\n",
            "----------\n",
            "train Loss: 0.3430 Acc: 0.8852\n",
            "val Loss: 0.1780 Acc: 0.9346\n",
            "\n",
            "Epoch 17/24\n",
            "----------\n",
            "train Loss: 0.3567 Acc: 0.8320\n",
            "val Loss: 0.1731 Acc: 0.9346\n",
            "\n",
            "Epoch 18/24\n",
            "----------\n",
            "train Loss: 0.4260 Acc: 0.8033\n",
            "val Loss: 0.1790 Acc: 0.9346\n",
            "\n",
            "Epoch 19/24\n",
            "----------\n",
            "train Loss: 0.3909 Acc: 0.8238\n",
            "val Loss: 0.2036 Acc: 0.9346\n",
            "\n",
            "Epoch 20/24\n",
            "----------\n",
            "train Loss: 0.3093 Acc: 0.8689\n",
            "val Loss: 0.2091 Acc: 0.9346\n",
            "\n",
            "Epoch 21/24\n",
            "----------\n",
            "train Loss: 0.3692 Acc: 0.8484\n",
            "val Loss: 0.2201 Acc: 0.9281\n",
            "\n",
            "Epoch 22/24\n",
            "----------\n",
            "train Loss: 0.3324 Acc: 0.8730\n",
            "val Loss: 0.1903 Acc: 0.9346\n",
            "\n",
            "Epoch 23/24\n",
            "----------\n",
            "train Loss: 0.2954 Acc: 0.8811\n",
            "val Loss: 0.1944 Acc: 0.9281\n",
            "\n",
            "Epoch 24/24\n",
            "----------\n",
            "train Loss: 0.3444 Acc: 0.8156\n",
            "val Loss: 0.1732 Acc: 0.9346\n",
            "\n",
            "Training complete in 0m 23s\n",
            "Best val Acc: 0.947712\n"
          ]
        }
      ],
      "source": [
        "model_conv = train_model(model_conv, criterion, optimizer_conv,\n",
        "                         exp_lr_scheduler, num_epochs=25)"
      ]
    },
    {
      "cell_type": "code",
      "execution_count": 13,
      "metadata": {
        "colab": {
          "base_uri": "https://localhost:8080/",
          "height": 581
        },
        "id": "eXJFmBrH41T2",
        "outputId": "548ea7d6-2d32-4442-bb5b-a314f9f18b25"
      },
      "outputs": [
        {
          "data": {
            "image/png": "[encoded data removed]",
            "text/plain": "<Figure size 432x288 with 1 Axes>"
          },
          "metadata": {
            "needs_background": "light"
          },
          "output_type": "display_data"
        },
        {
          "data": {
            "image/png": "[encoded data removed]",
            "text/plain": "<Figure size 432x288 with 1 Axes>"
          },
          "metadata": {
            "needs_background": "light"
          },
          "output_type": "display_data"
        },
        {
          "data": {
            "image/png": "[encoded data removed]",
            "text/plain": "<Figure size 432x288 with 1 Axes>"
          },
          "metadata": {
            "needs_background": "light"
          },
          "output_type": "display_data"
        },
        {
          "data": {
            "image/png": "[encoded data removed]",
            "text/plain": "<Figure size 432x288 with 1 Axes>"
          },
          "metadata": {
            "needs_background": "light"
          },
          "output_type": "display_data"
        },
        {
          "data": {
            "image/png": "[encoded data removed]",
            "text/plain": "<Figure size 432x288 with 1 Axes>"
          },
          "metadata": {
            "needs_background": "light"
          },
          "output_type": "display_data"
        },
        {
          "data": {
            "image/png": "[encoded data removed]",
            "text/plain": "<Figure size 432x288 with 1 Axes>"
          },
          "metadata": {
            "needs_background": "light"
          },
          "output_type": "display_data"
        }
      ],
      "source": [
        "visualize_model(model_conv)\n",
        "\n",
        "plt.ioff()\n",
        "plt.show()"
      ]
    },
    {
      "cell_type": "markdown",
      "metadata": {
        "id": "mxoTPj4p41T2"
      },
      "source": [
        "## Further Learning\n",
        "\n",
        "If you would like to learn more about the applications of transfer learning,\n",
        "checkout our [Quantized Transfer Learning for Computer Vision Tutorial](https://pytorch.org/tutorials/intermediate/quantized_transfer_learning_tutorial.html).\n",
        "\n",
        "\n",
        "\n"
      ]
    }
  ],
  "metadata": {
    "kernelspec": {
      "display_name": "Python 3 (ipykernel)",
      "language": "python",
      "name": "python3"
    },
    "language_info": {
      "codemirror_mode": {
        "name": "ipython",
        "version": 3
      },
      "file_extension": ".py",
      "mimetype": "text/x-python",
      "name": "python",
      "nbconvert_exporter": "python",
      "pygments_lexer": "ipython3",
      "version": "3.8.10"
    },
    "orig_nbformat": 3
  },
  "nbformat": 4,
  "nbformat_minor": 0
}